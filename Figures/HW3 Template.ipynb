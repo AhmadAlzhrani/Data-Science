{
 "cells": [
  {
   "cell_type": "markdown",
   "metadata": {},
   "source": [
    "Group Number:  \n",
    "\n",
    "        Student Names: ahmad alzhrani\n",
    "        \n",
    "        Student IDs: 201917030"
   ]
  },
  {
   "cell_type": "markdown",
   "metadata": {
    "toc": true
   },
   "source": [
    "<h1>Table of Contents<span class=\"tocSkip\"></span></h1>\n",
    "<div class=\"toc\"><ul class=\"toc-item\"><li><span><a href=\"#Problem-#A\" data-toc-modified-id=\"Problem-#A-1\"><span class=\"toc-item-num\">1&nbsp;&nbsp;</span>Problem #A</a></span></li><li><span><a href=\"#Problem-#B\" data-toc-modified-id=\"Problem-#B-2\"><span class=\"toc-item-num\">2&nbsp;&nbsp;</span>Problem #B</a></span></li><li><span><a href=\"#Rough/test-work-----will-not-be-graded\" data-toc-modified-id=\"Rough/test-work-----will-not-be-graded-3\"><span class=\"toc-item-num\">3&nbsp;&nbsp;</span>Rough/test work  -- will not be graded</a></span></li></ul></div>"
   ]
  },
  {
   "cell_type": "markdown",
   "metadata": {},
   "source": [
    "# Problem #A"
   ]
  },
  {
   "cell_type": "code",
   "execution_count": null,
   "metadata": {},
   "outputs": [],
   "source": [
    "#A-1\n",
    "import pandas as pd\n",
    "df = pd.read_excel('HW-3-Data-A.xlsx', header=list(range(1)), index_col=None)\n",
    "display(df.iloc[0:10])"
   ]
  },
  {
   "cell_type": "code",
   "execution_count": null,
   "metadata": {},
   "outputs": [],
   "source": [
    "#A-2\n",
    "display(df.info())"
   ]
  },
  {
   "cell_type": "code",
   "execution_count": null,
   "metadata": {},
   "outputs": [],
   "source": [
    "#A-3\n",
    "display(df.describe())\n",
    "df.describe(include=\"object\")"
   ]
  },
  {
   "cell_type": "code",
   "execution_count": null,
   "metadata": {},
   "outputs": [],
   "source": [
    "#A-4\n",
    "Mrows = df.loc[df['gender']== 'M',:]\n",
    "display(Mrows)\n",
    "Mrows.describe()\n"
   ]
  },
  {
   "cell_type": "code",
   "execution_count": null,
   "metadata": {},
   "outputs": [],
   "source": [
    "#A-5\n",
    "obRows = (df['age'].isin([15,17,19]))\n",
    "obColumns = df.select_dtypes(include='object').columns\n",
    "df.loc[obRows,obColumns] "
   ]
  },
  {
   "cell_type": "code",
   "execution_count": null,
   "metadata": {},
   "outputs": [],
   "source": [
    "#A-6\n",
    "avg = df.loc[:,['G1','G2','G3']].mean().tolist()\n",
    "\n",
    "avgG1 = df.loc[df['G1']> avg[0],'famsize']\n",
    "\n",
    "avgG2 = df.loc[df['G2']> avg[1],'famsize']\n",
    "\n",
    "avgG3 = df.loc[df['G3']> avg[2],'famsize']\n",
    "\n",
    "print(f' G1  :\\n{avgG1} \\nG2 = {avgG2} \\nG3 = {avgG3}')"
   ]
  },
  {
   "cell_type": "code",
   "execution_count": null,
   "metadata": {},
   "outputs": [],
   "source": [
    "#A-7\n",
    "jRows = (df['Fjob'].isin(['teacher','sevices','health'])) | (df['Mjob'].isin(['teacher','sevices','health']))\n",
    "df.loc[jRows,:]"
   ]
  },
  {
   "cell_type": "code",
   "execution_count": null,
   "metadata": {},
   "outputs": [],
   "source": [
    "#A-8\n",
    "sRows = (df['Fjob'].isin(['teacher']) | df['Mjob'].isin(['teacher'])) & df['Pstatus'].isin(['T'])\n",
    "\n",
    "\n",
    "full = df.loc[sRows,:]\n",
    "full = full.sort_values(by=['G3'], inplace=False, ascending=False)\n",
    "display(full.iloc[:10,:])"
   ]
  },
  {
   "cell_type": "code",
   "execution_count": null,
   "metadata": {},
   "outputs": [],
   "source": [
    "#A-9\n",
    "from math import * \n",
    "seleted_cols= df.loc[:,['G1','G2','G3']].columns\n",
    "\n",
    "df[seleted_cols]=df[seleted_cols].applymap(lambda x : int(x)+0.5 if (x-int(x) <= 0.5) else ceil(x))\n",
    "\n",
    "display(df[seleted_cols])\n",
    "df[seleted_cols].describe()"
   ]
  },
  {
   "cell_type": "code",
   "execution_count": null,
   "metadata": {},
   "outputs": [],
   "source": [
    "#A-10\n",
    "def absents(x):\n",
    "    if x[21] <= 10:\n",
    "        return \"normal\"\n",
    "    elif x[21] > 10 and x[21] <= 25 :\n",
    "        return 'follow-up'\n",
    "    elif x[21] > 25:\n",
    "        if x[20] < 3:\n",
    "            return 'medical'\n",
    "        else:\n",
    "            return 'concern'\n",
    "        \n",
    "#seleted_cols= df.loc[:,['G1','G2','G3']].columns\n",
    "\n",
    "\n",
    "#df['advising']=df[seleted_cols].applymap(lambda x : x if (x-int(x) <= 0.5) else ceil(x))\n",
    "df['advising'] = df.apply(absents,axis=1)\n",
    "display(df)\n"
   ]
  },
  {
   "cell_type": "markdown",
   "metadata": {},
   "source": [
    "# Problem #B"
   ]
  },
  {
   "cell_type": "code",
   "execution_count": null,
   "metadata": {},
   "outputs": [],
   "source": [
    "#B-1\n",
    "import pandas as pd\n",
    "import matplotlib.pyplot as plt\n",
    "import seaborn as sns\n",
    "\n",
    "\n",
    "df1 = pd.read_csv('HW-3-Data-B.csv', delimiter=',')\n",
    "\n",
    "for i in df1 :\n",
    "    plt.figure()\n",
    "    sns.histplot(x=df1[i],bins=10,data=df1);\n",
    "    plt.show()"
   ]
  },
  {
   "cell_type": "code",
   "execution_count": null,
   "metadata": {},
   "outputs": [],
   "source": [
    "#B-2\n",
    "plt.figure()\n",
    "sns.boxplot(y=df1['G1'],x=df1['gender'],data=df1);\n",
    "plt.show()"
   ]
  },
  {
   "cell_type": "code",
   "execution_count": null,
   "metadata": {},
   "outputs": [],
   "source": [
    "#B-3\n",
    "plt.figure(figsize=(10,10))\n",
    "sns.scatterplot(x='G1', y='G2', \n",
    "                size='G3',sizes=(20,200),\n",
    "                alpha=0.5, color='red', \n",
    "                data=df1)\n",
    "plt.show()"
   ]
  },
  {
   "cell_type": "code",
   "execution_count": null,
   "metadata": {},
   "outputs": [],
   "source": [
    "#B-4\n",
    "df1[\"average\"] = (df1['G1']+df1['G2'])/2\n",
    "\n",
    "df1 = df1.loc[:,['average','G3']]\n",
    "df1.set_index('G3',inplace=True)\n",
    "df1.sort_index(inplace=True)\n",
    "\n",
    "display(df1.head())\n",
    "\n",
    "plt.figure(figsize=(20,10))\n",
    "sns.lineplot(markers=True, data=df1)"
   ]
  },
  {
   "cell_type": "code",
   "execution_count": null,
   "metadata": {},
   "outputs": [],
   "source": [
    "#B-5\n",
    "import seaborn as sns\n",
    "\n",
    "\n",
    "plt.figure(figsize=(10,20))\n",
    "\n",
    "\n",
    "sns.countplot(x ='Mjob',hue='famsize',data = df1) \n",
    "\n",
    "\n",
    "\n",
    "plt.show()"
   ]
  },
  {
   "cell_type": "code",
   "execution_count": null,
   "metadata": {},
   "outputs": [],
   "source": [
    "#B-6\n",
    "plt.figure(figsize=(10,10))\n",
    "sns.violinplot(x ='G3', y='famsize', hue='famsize', data = df1) \n",
    "plt.show()\n"
   ]
  },
  {
   "cell_type": "code",
   "execution_count": null,
   "metadata": {},
   "outputs": [],
   "source": [
    "#B-7\n",
    "\n",
    "plt.figure(figsize=(10,10))\n",
    "sns.relplot(x='G1', y='G2',hue='activities',col='internet',data=df1)\n",
    "plt.show()"
   ]
  },
  {
   "cell_type": "code",
   "execution_count": null,
   "metadata": {},
   "outputs": [],
   "source": [
    "#B-8\n",
    "\n",
    "plt.figure(figsize=(10,10))\n",
    "sns.relplot(x='G1', y='G2', size='absences',sizes=(20,200),alpha=0.5, hue='reason', col='famsize',data=df1)\n",
    "plt.show()"
   ]
  },
  {
   "cell_type": "code",
   "execution_count": null,
   "metadata": {},
   "outputs": [],
   "source": [
    "#B-9\n",
    "selectedRows = (df1[\"G3\"] > 10)\n",
    "\n",
    "plt.figure()\n",
    "sns.boxplot(x=\"G3\",y='gender',data=df1[selectedRows]);\n",
    "plt.show()"
   ]
  },
  {
   "cell_type": "code",
   "execution_count": null,
   "metadata": {},
   "outputs": [],
   "source": [
    "#B-10\n",
    "\n",
    "sns.countplot(x=\"Mjob\", hue=\"famsize\", data=df[selectedRows])\n",
    "plt.show()"
   ]
  },
  {
   "cell_type": "markdown",
   "metadata": {},
   "source": [
    "# Rough/test work  -- will not be graded"
   ]
  },
  {
   "cell_type": "code",
   "execution_count": null,
   "metadata": {},
   "outputs": [],
   "source": [
    "##  you can have extra cells here. None of the cells in this section will be graded."
   ]
  },
  {
   "cell_type": "code",
   "execution_count": null,
   "metadata": {},
   "outputs": [],
   "source": []
  },
  {
   "cell_type": "code",
   "execution_count": null,
   "metadata": {},
   "outputs": [],
   "source": []
  }
 ],
 "metadata": {
  "hide_input": false,
  "kernelspec": {
   "display_name": "Python 3",
   "language": "python",
   "name": "python3"
  },
  "language_info": {
   "codemirror_mode": {
    "name": "ipython",
    "version": 3
   },
   "file_extension": ".py",
   "mimetype": "text/x-python",
   "name": "python",
   "nbconvert_exporter": "python",
   "pygments_lexer": "ipython3",
   "version": "3.8.3"
  },
  "toc": {
   "base_numbering": 1,
   "nav_menu": {},
   "number_sections": true,
   "sideBar": true,
   "skip_h1_title": false,
   "title_cell": "Table of Contents",
   "title_sidebar": "Contents",
   "toc_cell": true,
   "toc_position": {},
   "toc_section_display": true,
   "toc_window_display": false
  },
  "varInspector": {
   "cols": {
    "lenName": 16,
    "lenType": 16,
    "lenVar": 40
   },
   "kernels_config": {
    "python": {
     "delete_cmd_postfix": "",
     "delete_cmd_prefix": "del ",
     "library": "var_list.py",
     "varRefreshCmd": "print(var_dic_list())"
    },
    "r": {
     "delete_cmd_postfix": ") ",
     "delete_cmd_prefix": "rm(",
     "library": "var_list.r",
     "varRefreshCmd": "cat(var_dic_list()) "
    }
   },
   "types_to_exclude": [
    "module",
    "function",
    "builtin_function_or_method",
    "instance",
    "_Feature"
   ],
   "window_display": false
  }
 },
 "nbformat": 4,
 "nbformat_minor": 5
}
