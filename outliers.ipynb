{
 "cells": [
  {
   "cell_type": "markdown",
   "metadata": {
    "toc": true
   },
   "source": [
    "<h1>Table of Contents<span class=\"tocSkip\"></span></h1>\n",
    "<div class=\"toc\"><ul class=\"toc-item\"><li><span><a href=\"#Names-&amp;-IDs\" data-toc-modified-id=\"Names-&amp;-IDs-1\"><span class=\"toc-item-num\">1&nbsp;&nbsp;</span>Names &amp; IDs</a></span></li><li><span><a href=\"#Problem-#A\" data-toc-modified-id=\"Problem-#A-2\"><span class=\"toc-item-num\">2&nbsp;&nbsp;</span>Problem #A</a></span></li><li><span><a href=\"#Problem-#B\" data-toc-modified-id=\"Problem-#B-3\"><span class=\"toc-item-num\">3&nbsp;&nbsp;</span>Problem #B</a></span></li></ul></div>"
   ]
  },
  {
   "cell_type": "markdown",
   "metadata": {},
   "source": [
    "# Names & IDs\n"
   ]
  },
  {
   "cell_type": "markdown",
   "metadata": {},
   "source": [
    "# Problem #A"
   ]
  },
  {
   "cell_type": "code",
   "execution_count": null,
   "metadata": {},
   "outputs": [],
   "source": [
    "#To be submitted as a pdf file."
   ]
  },
  {
   "cell_type": "markdown",
   "metadata": {},
   "source": [
    "# Problem #B"
   ]
  },
  {
   "cell_type": "code",
   "execution_count": 2,
   "metadata": {},
   "outputs": [
    {
     "data": {
      "image/png": "[encoded data removed]",
      "text/plain": [
       "<Figure size 360x360 with 1 Axes>"
      ]
     },
     "metadata": {
      "needs_background": "light"
     },
     "output_type": "display_data"
    },
    {
     "data": {
      "image/png": "[encoded data removed]",
      "text/plain": [
       "<Figure size 360x360 with 1 Axes>"
      ]
     },
     "metadata": {
      "needs_background": "light"
     },
     "output_type": "display_data"
    },
    {
     "data": {
      "image/png": "[encoded data removed]",
      "text/plain": [
       "<Figure size 360x360 with 1 Axes>"
      ]
     },
     "metadata": {
      "needs_background": "light"
     },
     "output_type": "display_data"
    },
    {
     "data": {
      "image/png": "[encoded data removed]",
      "text/plain": [
       "<Figure size 360x360 with 1 Axes>"
      ]
     },
     "metadata": {
      "needs_background": "light"
     },
     "output_type": "display_data"
    }
   ],
   "source": [
    "#B-1\n",
    "Data = {\n",
    "\"Jriffindor\": [70, 75, 90, 75, 55, 85, 80, 80, 70, 60, 75, 75, 80, 70, 85, 95, 60, 60, 85, 65,\n",
    "65, 90, 65, 75, 55, 95, 90],\n",
    "\"Clytherin\": [95, 95, 65, 70, 65, 65, 75, 75, 75, 80, 65, 95, 75, 65, 75, 80, 65, 95, 75, 65,\n",
    "95, 75, 65, 80, 65, 70, 70, 65],\n",
    "\"Hufflebuff\": [75, 85, 80, 85, 55, 85, 55, 85, 85, 75, 70, 85, 80, 70, 85, 80, 85, 75, 70, 85,\n",
    "55, 75, 55, 55, 85],\n",
    "\"Ravenklaw\": [75, 75, 75, 75, 75, 75, 75, 75, 75, 75, 75, 75, 75, 75, 75, 75, 75, 75, 75, 75,\n",
    "75, 75, 75, 75, 75, 75, 75]\n",
    "}\n",
    "\n",
    "series = []\n",
    "for section in Data:\n",
    "    series.append(Data[section].copy())\n",
    "\n",
    "%matplotlib inline\n",
    "\n",
    "\n",
    "import matplotlib.pyplot as plt\n",
    "plt.figure(figsize=(5,5))                                   \n",
    "plt.hist(series[0],bins=[40,50,60,70,80,90,100])\n",
    "plt.title(\"Jriffindor\")\n",
    "\n",
    "\n",
    "plt.figure(figsize=(5,5))\n",
    "plt.hist(series[1],bins=[40,50,60,70,80,90,100])\n",
    "plt.title(\"Clytherin\")\n",
    "\n",
    "\n",
    "plt.figure(figsize=(5,5))\n",
    "plt.hist(series[2],bins=[40,50,60,70,80,90,100])\n",
    "plt.title(\"Hufflebuff\")\n",
    "\n",
    "\n",
    "plt.figure(figsize=(5,5))\n",
    "plt.hist(series[3],bins=[40,50,60,70,80,90,100])\n",
    "plt.title(\"Ravenklaw\")\n",
    "plt.show()\n",
    "    \n"
   ]
  },
  {
   "cell_type": "code",
   "execution_count": 3,
   "metadata": {},
   "outputs": [],
   "source": [
    "#B-2\n",
    "\n",
    "# there is no symmetric in the first 3 plots but the forth is symmetric around the mean. \n",
    "\n",
    "#the fist histogram is negatively skewed \n",
    "#the second histogram is also negatively skewed \n",
    "#the third histogram is the same \n",
    "#the forth histogram is in normal distribution "
   ]
  },
  {
   "cell_type": "code",
   "execution_count": 4,
   "metadata": {},
   "outputs": [
    {
     "name": "stdout",
     "output_type": "stream",
     "text": [
      "The array s1 : mean is 75.0, the median is 75.0, and the mode is [75].\n",
      "The array s2 : mean is 75.0, the median is 75.0, and the mode is [65].\n",
      "The array s3 : mean is 75.0, the median is 80.0, and the mode is [85].\n",
      "The array s4 : mean is 75.0, the median is 75.0, and the mode is [75].\n"
     ]
    }
   ],
   "source": [
    "#B-3\n",
    "import numpy as np\n",
    "from scipy import stats \n",
    "\n",
    "s1 = np.array(series[0])\n",
    "s2 = np.array(series[1])\n",
    "s3 = np.array(series[2])\n",
    "s4 = np.array(series[3])\n",
    "\n",
    "print(f'The array s1 : mean is {s1.mean()}, the median is {np.median(s1)}, and the mode is {stats.mode(s1)[0]}.')\n",
    "print(f'The array s2 : mean is {s2.mean()}, the median is {np.median(s2)}, and the mode is {stats.mode(s2)[0]}.')\n",
    "print(f'The array s3 : mean is {s3.mean()}, the median is {np.median(s3)}, and the mode is {stats.mode(s3)[0]}.')\n",
    "print(f'The array s4 : mean is {s4.mean()}, the median is {np.median(s4)}, and the mode is {stats.mode(s4)[0]}.')"
   ]
  },
  {
   "cell_type": "code",
   "execution_count": 5,
   "metadata": {},
   "outputs": [
    {
     "name": "stdout",
     "output_type": "stream",
     "text": [
      "The Range for s1 is 40,the sample variance is 142.31,and the standard deviation is 11.71.\n",
      "The Range for s2 is 30,the sample variance is 117.0,and the standard deviation is 11.0.\n",
      "The Range for s3 is 30,the sample variance is 131.25,and the standard deviation is 11.22.\n",
      "The Range for s4 is 0,the sample variance is 0.0,and the standard deviation is 0.0.\n"
     ]
    }
   ],
   "source": [
    "#B-4\n",
    "print(f'The Range for s1 is {s1.max()-s1.min()},the sample variance is {np.round(np.var(s1,ddof=1),2)},and the standard deviation is {np.round(np.std(s1),2)}.')\n",
    "print(f'The Range for s2 is {s2.max()-s2.min()},the sample variance is {np.round(np.var(s2,ddof=1))},and the standard deviation is {np.round(np.std(s2))}.')\n",
    "print(f'The Range for s3 is {s3.max()-s3.min()},the sample variance is {np.var(s3,ddof=1)},and the standard deviation is {np.round(np.std(s3),2)}.')\n",
    "print(f'The Range for s4 is {s4.max()-s4.min()},the sample variance is {np.var(s4,ddof=1)},and the standard deviation is {np.std(s4)}.')"
   ]
  },
  {
   "cell_type": "code",
   "execution_count": 6,
   "metadata": {},
   "outputs": [
    {
     "name": "stdout",
     "output_type": "stream",
     "text": [
      "Q1 for s1 is 65.0, and Q3 is 85.0\n",
      "Q1 for s2 is 65.0, and Q3 is 80.0\n",
      "Q1 for s3 is 70.0, and Q3 is 85.0\n",
      "Q1 for s4 is 75.0, and Q3 is 75.0\n"
     ]
    }
   ],
   "source": [
    "#B-5\n",
    "s1Q3, s1Q1 =np.percentile(s1, [75 ,25])\n",
    "s2Q3, s2Q1 =np.percentile(s2, [75 ,25])\n",
    "s3Q3, s3Q1 =np.percentile(s3, [75 ,25])\n",
    "s4Q3, s4Q1 =np.percentile(s4, [75 ,25])\n",
    "print(f'Q1 for s1 is {s1Q1}, and Q3 is {s1Q3}')\n",
    "print(f'Q1 for s2 is {s2Q1}, and Q3 is {s2Q3}')\n",
    "print(f'Q1 for s3 is {s3Q1}, and Q3 is {s3Q3}')\n",
    "print(f'Q1 for s4 is {s4Q1}, and Q3 is {s4Q3}')"
   ]
  },
  {
   "cell_type": "code",
   "execution_count": 7,
   "metadata": {},
   "outputs": [
    {
     "data": {
      "image/png": "[encoded data removed]",
      "text/plain": [
       "<Figure size 216x360 with 1 Axes>"
      ]
     },
     "metadata": {
      "needs_background": "light"
     },
     "output_type": "display_data"
    },
    {
     "data": {
      "image/png": "[encoded data removed]",
      "text/plain": [
       "<Figure size 216x360 with 1 Axes>"
      ]
     },
     "metadata": {
      "needs_background": "light"
     },
     "output_type": "display_data"
    },
    {
     "data": {
      "image/png": "[encoded data removed]",
      "text/plain": [
       "<Figure size 216x360 with 1 Axes>"
      ]
     },
     "metadata": {
      "needs_background": "light"
     },
     "output_type": "display_data"
    },
    {
     "data": {
      "image/png": "[encoded data removed]",
      "text/plain": [
       "<Figure size 216x360 with 1 Axes>"
      ]
     },
     "metadata": {
      "needs_background": "light"
     },
     "output_type": "display_data"
    }
   ],
   "source": [
    "#B-6\n",
    "\n",
    "plt.figure(figsize=(3,5))\n",
    "plt.boxplot(s1) \n",
    "plt.title('Jriffindor')\n",
    "\n",
    "plt.figure(figsize=(3,5))\n",
    "plt.boxplot(s2) \n",
    "plt.title(\"Clytherin\")\n",
    "\n",
    "plt.figure(figsize=(3,5))\n",
    "plt.boxplot(s2) \n",
    "plt.title(\"Hufflebuff\")\n",
    "\n",
    "plt.figure(figsize=(3,5))\n",
    "plt.boxplot(s2) \n",
    "plt.title(\"Ravenklaw\")\n",
    "\n",
    "plt.show()"
   ]
  },
  {
   "cell_type": "code",
   "execution_count": 9,
   "metadata": {},
   "outputs": [
    {
     "name": "stdout",
     "output_type": "stream",
     "text": [
      "p-values 1.0\n",
      "p-values 1.0\n",
      "p-values 1.0\n",
      "p-values 1.0\n",
      "the p-values of all the sections is 100%, so We fail to reject null hypothesis.\n"
     ]
    }
   ],
   "source": [
    "#B-7\n",
    "from scipy.stats import ttest_1samp\n",
    "\n",
    "tset, pval = ttest_1samp(s1, 75)\n",
    "print('p-values',pval)\n",
    "\n",
    "tset, pval = ttest_1samp(s2, 75)\n",
    "print('p-values',pval)\n",
    "\n",
    "tset, pval = ttest_1samp(s3, 75)\n",
    "print('p-values',pval)\n",
    "\n",
    "tset, pval = ttest_1samp(s3, 75)\n",
    "print('p-values',pval)\n",
    "\n",
    "print(\"the p-values of all the sections is 100%, so We fail to reject null hypothesis.\")\n"
   ]
  },
  {
   "cell_type": "code",
   "execution_count": 10,
   "metadata": {},
   "outputs": [
    {
     "name": "stdout",
     "output_type": "stream",
     "text": [
      "p-value 1.0\n",
      "p-value 1.0\n",
      "the p-values of each pair is 100%, so We fail to reject null hypothesis.\n"
     ]
    }
   ],
   "source": [
    "#B-8\n",
    "from scipy.stats import ttest_ind\n",
    "\n",
    "ttest,pval = ttest_ind(s1,s2)\n",
    "print('p-value',pval)\n",
    "\n",
    "ttest,pval = ttest_ind(s3,s4)\n",
    "print('p-value',pval)\n",
    "\n",
    "print(\"the p-values of each pair is 100%, so We fail to reject null hypothesis.\")"
   ]
  },
  {
   "cell_type": "code",
   "execution_count": null,
   "metadata": {},
   "outputs": [],
   "source": []
  }
 ],
 "metadata": {
  "hide_input": false,
  "kernelspec": {
   "display_name": "Python 3",
   "language": "python",
   "name": "python3"
  },
  "language_info": {
   "codemirror_mode": {
    "name": "ipython",
    "version": 3
   },
   "file_extension": ".py",
   "mimetype": "text/x-python",
   "name": "python",
   "nbconvert_exporter": "python",
   "pygments_lexer": "ipython3",
   "version": "3.8.3"
  },
  "toc": {
   "base_numbering": 1,
   "nav_menu": {},
   "number_sections": true,
   "sideBar": true,
   "skip_h1_title": false,
   "title_cell": "Table of Contents",
   "title_sidebar": "Contents",
   "toc_cell": true,
   "toc_position": {},
   "toc_section_display": true,
   "toc_window_display": false
  },
  "varInspector": {
   "cols": {
    "lenName": 16,
    "lenType": 16,
    "lenVar": 40
   },
   "kernels_config": {
    "python": {
     "delete_cmd_postfix": "",
     "delete_cmd_prefix": "del ",
     "library": "var_list.py",
     "varRefreshCmd": "print(var_dic_list())"
    },
    "r": {
     "delete_cmd_postfix": ") ",
     "delete_cmd_prefix": "rm(",
     "library": "var_list.r",
     "varRefreshCmd": "cat(var_dic_list()) "
    }
   },
   "types_to_exclude": [
    "module",
    "function",
    "builtin_function_or_method",
    "instance",
    "_Feature"
   ],
   "window_display": false
  }
 },
 "nbformat": 4,
 "nbformat_minor": 5
}
