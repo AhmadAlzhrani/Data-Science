{
 "cells": [
  {
   "cell_type": "markdown",
   "metadata": {
    "toc": true
   },
   "source": [
    "<h1>Table of Contents<span class=\"tocSkip\"></span></h1>\n",
    "<div class=\"toc\"><ul class=\"toc-item\"><li><span><a href=\"#Problem-#A\" data-toc-modified-id=\"Problem-#A-1\"><span class=\"toc-item-num\">1&nbsp;&nbsp;</span>Problem #A</a></span></li><li><span><a href=\"#Problem-#B\" data-toc-modified-id=\"Problem-#B-2\"><span class=\"toc-item-num\">2&nbsp;&nbsp;</span>Problem #B</a></span></li></ul></div>"
   ]
  },
  {
   "cell_type": "markdown",
   "metadata": {},
   "source": [
    "# Ahmad Fahad Alzhrani - 201917030 \n"
   ]
  },
  {
   "cell_type": "markdown",
   "metadata": {},
   "source": [
    "# Problem #A"
   ]
  },
  {
   "cell_type": "code",
   "execution_count": null,
   "metadata": {},
   "outputs": [],
   "source": [
    "#A-1\n",
    "list = [3,6,8,2,9]\n",
    "list1 = [x+5 for x in list]\n",
    "print(list1)\n"
   ]
  },
  {
   "cell_type": "code",
   "execution_count": null,
   "metadata": {},
   "outputs": [],
   "source": [
    "#A-2\n",
    "list2 = [x**2 for x in range (1,10) if x**2<10 ]\n",
    "print(list2)"
   ]
  },
  {
   "cell_type": "code",
   "execution_count": null,
   "metadata": {},
   "outputs": [],
   "source": [
    "#A-3\n",
    "string = \"qzuipo ejdujpobsjft ep opu ibwf joefy psefst- tp tqfbljoh bcpvu uifn sfhbsejoh uifjs gjstu jufn ps mbtu jufn jt opu wfsz dpssfdu/ ofyu ujnf zpv qsjou b ejdujpobsz ju nbz ibwf b ejggfsfou psefs uibo zpv tbx cfgpsf/ jotufbe uifz ibwf lfzt- boe xf dbo vtf lfzt up dbmm uifjs wbmvft/\"\n",
    "newString = string.split()\n",
    "print(newString)\n"
   ]
  },
  {
   "cell_type": "code",
   "execution_count": null,
   "metadata": {},
   "outputs": [],
   "source": [
    "#A-4\n",
    "stripped = [x.strip('/') for x in newString]\n",
    "print(stripped)"
   ]
  },
  {
   "cell_type": "code",
   "execution_count": null,
   "metadata": {},
   "outputs": [],
   "source": [
    "#A-5\n",
    "for s in range(len(stripped)):\n",
    "    \n",
    "    stripped[s] = [x for x in stripped[s]]\n",
    "\n",
    "for i in range(len(stripped)):\n",
    "    for j in range (len(stripped[i])) :\n",
    "        stripped[i][j] = chr(ord(stripped[i][j]) - 1) \n",
    "\n",
    "print('\\n',stripped)\n",
    "\n",
    "joined = [\"\".join(x) for x in stripped]\n",
    "\n",
    "print('\\n',joined)"
   ]
  },
  {
   "cell_type": "code",
   "execution_count": null,
   "metadata": {},
   "outputs": [],
   "source": [
    "#A-6\n",
    "print(\" \".join(joined))"
   ]
  },
  {
   "cell_type": "code",
   "execution_count": null,
   "metadata": {},
   "outputs": [],
   "source": [
    "#A-7\n",
    "nums = [10, 20, 30, 40, 50, 60, 70, 80, 90, 100]\n",
    "chars = ['x','xx','xxx','xl','l','lx','lxx','lxxx','xc','c']\n",
    "names= ['Ten', 'twenty', 'thirty', 'forty', 'fifty', 'sixty', 'seventy', 'eighty', 'ninety', 'hundred']\n",
    "\n",
    "num = int(input(\"enter a number from the following choices: %s \\n \"%nums))\n",
    "index = nums.index(num)\n",
    "\n",
    "print(\" number : %d \\n characters : %s \\n name : %s \"%(nums[index],chars[index],names[index]))"
   ]
  },
  {
   "cell_type": "markdown",
   "metadata": {},
   "source": [
    "# Problem #B"
   ]
  },
  {
   "cell_type": "code",
   "execution_count": null,
   "metadata": {},
   "outputs": [],
   "source": [
    "#B-1\n",
    "import numpy as np\n",
    "\n",
    "np.random.seed(203)\n",
    "s = np.random.randint(10,50,(10,7))\n",
    "print(s)\n"
   ]
  },
  {
   "cell_type": "code",
   "execution_count": null,
   "metadata": {},
   "outputs": [],
   "source": [
    "#B-2\n",
    "print(f\"s ndim: {s.ndim}\")\n",
    "print(f\"s shape: {s.shape}\")\n",
    "print(f\"s size: {s.size}\")"
   ]
  },
  {
   "cell_type": "code",
   "execution_count": null,
   "metadata": {},
   "outputs": [],
   "source": [
    "#B-3\n",
    "print(s[-1])"
   ]
  },
  {
   "cell_type": "code",
   "execution_count": null,
   "metadata": {},
   "outputs": [],
   "source": [
    "#B-4\n",
    "print(s[:,-2])"
   ]
  },
  {
   "cell_type": "code",
   "execution_count": null,
   "metadata": {},
   "outputs": [],
   "source": [
    "#B-5\n",
    "print(s[1::2])"
   ]
  },
  {
   "cell_type": "code",
   "execution_count": null,
   "metadata": {},
   "outputs": [],
   "source": [
    "#B-6\n",
    "print(s[:,2::2])"
   ]
  },
  {
   "cell_type": "code",
   "execution_count": null,
   "metadata": {},
   "outputs": [],
   "source": [
    "#B-7\n",
    "print(s[::-1])"
   ]
  },
  {
   "cell_type": "code",
   "execution_count": null,
   "metadata": {},
   "outputs": [],
   "source": [
    "#B-8\n",
    "print(s[:,::-1])"
   ]
  },
  {
   "cell_type": "code",
   "execution_count": null,
   "metadata": {},
   "outputs": [],
   "source": [
    "#B-9\n",
    "print(s[[2,4,5],3::3])"
   ]
  },
  {
   "cell_type": "code",
   "execution_count": null,
   "metadata": {},
   "outputs": [],
   "source": []
  }
 ],
 "metadata": {
  "hide_input": false,
  "kernelspec": {
   "display_name": "Python 3",
   "language": "python",
   "name": "python3"
  },
  "language_info": {
   "codemirror_mode": {
    "name": "ipython",
    "version": 3
   },
   "file_extension": ".py",
   "mimetype": "text/x-python",
   "name": "python",
   "nbconvert_exporter": "python",
   "pygments_lexer": "ipython3",
   "version": "3.8.3"
  },
  "toc": {
   "base_numbering": 1,
   "nav_menu": {},
   "number_sections": true,
   "sideBar": true,
   "skip_h1_title": false,
   "title_cell": "Table of Contents",
   "title_sidebar": "Contents",
   "toc_cell": true,
   "toc_position": {},
   "toc_section_display": true,
   "toc_window_display": false
  },
  "varInspector": {
   "cols": {
    "lenName": 16,
    "lenType": 16,
    "lenVar": 40
   },
   "kernels_config": {
    "python": {
     "delete_cmd_postfix": "",
     "delete_cmd_prefix": "del ",
     "library": "var_list.py",
     "varRefreshCmd": "print(var_dic_list())"
    },
    "r": {
     "delete_cmd_postfix": ") ",
     "delete_cmd_prefix": "rm(",
     "library": "var_list.r",
     "varRefreshCmd": "cat(var_dic_list()) "
    }
   },
   "types_to_exclude": [
    "module",
    "function",
    "builtin_function_or_method",
    "instance",
    "_Feature"
   ],
   "window_display": false
  }
 },
 "nbformat": 4,
 "nbformat_minor": 5
}
